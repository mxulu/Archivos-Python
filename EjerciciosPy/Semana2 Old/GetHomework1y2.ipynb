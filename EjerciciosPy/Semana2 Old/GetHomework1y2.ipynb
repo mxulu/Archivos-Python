{
 "cells": [
  {
   "cell_type": "markdown",
   "metadata": {},
   "source": [
    "### Angel Mauricio Xulú Ajú   1128311"
   ]
  },
  {
   "cell_type": "markdown",
   "metadata": {},
   "source": [
    "# Parte 1"
   ]
  },
  {
   "cell_type": "code",
   "execution_count": 5,
   "metadata": {},
   "outputs": [
    {
     "name": "stdout",
     "output_type": "stream",
     "text": [
      "https://fpmir.azurewebsites.net/api/AZFMIR?AZFNUM=Semana1\n"
     ]
    },
    {
     "data": {
      "text/plain": [
       "'https://fpmir.azurewebsites.net/api/AZFMIR?AZFNUM=Semana1'"
      ]
     },
     "execution_count": 5,
     "metadata": {},
     "output_type": "execute_result"
    }
   ],
   "source": [
    "import webbrowser\n",
    "\n",
    "N=input(\"Ingrese el número de semana actual:\")\n",
    "N=int(N)\n",
    "homework=(\"https://fpmir.azurewebsites.net/api/AZFMIR?AZFNUM=\"+\"Semana\"+str(N))\n",
    "print(homework)\n",
    "\n",
    "def GetHomework():\n",
    "    webbrowser.open(homework, new=2)\n",
    "    return homework\n",
    "GetHomework()\n",
    "\n",
    "\n",
    "\n"
   ]
  },
  {
   "cell_type": "markdown",
   "metadata": {},
   "source": [
    "# Parte 2"
   ]
  },
  {
   "cell_type": "code",
   "execution_count": 2,
   "metadata": {},
   "outputs": [
    {
     "name": "stderr",
     "output_type": "stream",
     "text": [
      "\n",
      "KeyboardInterrupt\n",
      "\n"
     ]
    }
   ],
   "source": [
    "import json\n",
    "import requests\n",
    "\n",
    "N=input(\"Ingrese el número de semana actual:\")\n",
    "N=int(N)\n",
    "FilePath=str(\"C:\\\\MiArchivo.json\")\n",
    "\n",
    "response = requests.get(\"https://fpmir.azurewebsites.net/api/AZFMIR?AZFNUM\"+\"Semana\"+str(N)).text\n",
    "response_info = json.loads(response)\n",
    "out_file = open(FilePath, \" w\")\n",
    "json.dump(response_info, out_file, indent = 6 )\n",
    "out_file.close()\n"
   ]
  }
 ],
 "metadata": {
  "interpreter": {
   "hash": "5e0d54e54540040844e89e47763d8707bce5882b848c8b7c50f3d1962b92c55e"
  },
  "kernelspec": {
   "display_name": "Python 3.10.0 64-bit",
   "language": "python",
   "name": "python3"
  },
  "language_info": {
   "codemirror_mode": {
    "name": "ipython",
    "version": 3
   },
   "file_extension": ".py",
   "mimetype": "text/x-python",
   "name": "python",
   "nbconvert_exporter": "python",
   "pygments_lexer": "ipython3",
   "version": "3.10.0"
  },
  "orig_nbformat": 4
 },
 "nbformat": 4,
 "nbformat_minor": 2
}
