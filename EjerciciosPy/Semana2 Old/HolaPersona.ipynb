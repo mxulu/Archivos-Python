{
 "cells": [
  {
   "cell_type": "markdown",
   "metadata": {},
   "source": [
    "# Ejercicios Fundamentos de Programación"
   ]
  },
  {
   "cell_type": "markdown",
   "metadata": {},
   "source": [
    "### Ejercicio 1"
   ]
  },
  {
   "cell_type": "code",
   "execution_count": 2,
   "metadata": {},
   "outputs": [
    {
     "name": "stdout",
     "output_type": "stream",
     "text": [
      "Hola, te envío un saludo Mi cielito en la fecha: 22-02-09\n"
     ]
    }
   ],
   "source": [
    "from datetime import datetime\n",
    "\n",
    "\n",
    "NombrePersona = input(\"Por favor ingrese su nombre\")\n",
    "print(\"Hola, te envío un saludo\", NombrePersona, \"en la fecha:\", datetime.today().strftime(\"%y-%m-%d\"))\n",
    "\n",
    "\n"
   ]
  },
  {
   "cell_type": "markdown",
   "metadata": {},
   "source": [
    "### Ejercicio 2"
   ]
  },
  {
   "cell_type": "code",
   "execution_count": 6,
   "metadata": {},
   "outputs": [
    {
     "name": "stdout",
     "output_type": "stream",
     "text": [
      "1\n"
     ]
    }
   ],
   "source": [
    "numero=int(input(\"Ingrese el número:\"))\n",
    "print(numero)\n",
    "a=b=c=numero\n",
    "print=(a,b,c)\n",
    "b=b**2\n",
    "print=(b)\n",
    "a,b=b,a\n",
    "print=(a,b)\n",
    "print=(c)\n",
    "del c\n",
    "\n",
    "\n"
   ]
  },
  {
   "cell_type": "markdown",
   "metadata": {},
   "source": [
    "### Ejercicio 3"
   ]
  },
  {
   "cell_type": "code",
   "execution_count": 1,
   "metadata": {},
   "outputs": [
    {
     "name": "stdout",
     "output_type": "stream",
     "text": [
      "{'Nombre': 'Mauricio', 'Edad': 35, 'Fecha de Nacimiento': '03/10/1992'}\n"
     ]
    }
   ],
   "source": [
    "entero=int(input(\"Ingrese un entero\"))\n",
    "string=input(\"Ingrese un string:\")\n",
    "numerofloat=float(input(\"Ingrese un número decimal:\"))\n",
    "\n",
    "diccionario=dict({\"Nombre\":\"Mauricio\", \"Edad\":35,\"Fecha de Nacimiento\":\"03/10/1992\"})\n",
    "print(diccionario)"
   ]
  },
  {
   "cell_type": "markdown",
   "metadata": {},
   "source": [
    "### Ejercicio 4"
   ]
  },
  {
   "cell_type": "code",
   "execution_count": 2,
   "metadata": {},
   "outputs": [
    {
     "name": "stdout",
     "output_type": "stream",
     "text": [
      "1.4142135623730951\n"
     ]
    }
   ],
   "source": [
    "from math import sqrt as raizcuadrada\n",
    "\n",
    "num=int(input(\"Ingrese su número:\"))\n",
    "print(raizcuadrada(num))\n",
    "\n",
    "\n"
   ]
  },
  {
   "cell_type": "markdown",
   "metadata": {},
   "source": [
    "### Ejercicio 5"
   ]
  },
  {
   "cell_type": "code",
   "execution_count": 3,
   "metadata": {},
   "outputs": [
    {
     "name": "stdout",
     "output_type": "stream",
     "text": [
      "Suma: 5\n",
      "Resta: -1\n",
      "Multiplicación: 6\n",
      "División: 0.6666666666666666\n"
     ]
    }
   ],
   "source": [
    "num1,num2=input(\"Ingrese dos números separados por coma:\").split(\",\")\n",
    "num1=int(num1)\n",
    "num2=int(num2)\n",
    "\n",
    "def mi_funcion_operaciones_matemáticas():\n",
    "    print(\"Suma:\",(num1+num2))\n",
    "    print(\"Resta:\",(num1-num2))\n",
    "    print(\"Multiplicación:\",(num1*num2))\n",
    "    print(\"División:\",(num1/num2))\n",
    "\n",
    "mi_funcion_operaciones_matemáticas()\n",
    "\n",
    "\n"
   ]
  }
 ],
 "metadata": {
  "interpreter": {
   "hash": "5e0d54e54540040844e89e47763d8707bce5882b848c8b7c50f3d1962b92c55e"
  },
  "kernelspec": {
   "display_name": "Python 3.10.0 64-bit",
   "name": "python3"
  },
  "language_info": {
   "codemirror_mode": {
    "name": "ipython",
    "version": 3
   },
   "file_extension": ".py",
   "mimetype": "text/x-python",
   "name": "python",
   "nbconvert_exporter": "python",
   "pygments_lexer": "ipython3",
   "version": "3.10.0"
  },
  "orig_nbformat": 4
 },
 "nbformat": 4,
 "nbformat_minor": 2
}
